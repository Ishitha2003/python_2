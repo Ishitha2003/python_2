{
  "nbformat": 4,
  "nbformat_minor": 0,
  "metadata": {
    "colab": {
      "name": "my first code",
      "provenance": [],
      "collapsed_sections": [],
      "authorship_tag": "ABX9TyOdok+a4kaxX9Oc5XHhkPJy",
      "include_colab_link": true
    },
    "kernelspec": {
      "name": "python3",
      "display_name": "Python 3"
    },
    "language_info": {
      "name": "python"
    }
  },
  "cells": [
    {
      "cell_type": "markdown",
      "metadata": {
        "id": "view-in-github",
        "colab_type": "text"
      },
      "source": [
        "<a href=\"https://colab.research.google.com/github/Ishitha2003/python_2/blob/main/my_first_code.ipynb\" target=\"_parent\"><img src=\"https://colab.research.google.com/assets/colab-badge.svg\" alt=\"Open In Colab\"/></a>"
      ]
    },
    {
      "cell_type": "code",
      "execution_count": null,
      "metadata": {
        "id": "lJCwMK6Rv6PC"
      },
      "outputs": [],
      "source": [
        "!python --version"
      ]
    },
    {
      "cell_type": "code",
      "source": [
        "print(x+1)\n",
        "print(x-1)\n",
        "print(x*1)\n",
        "print(x**3)"
      ],
      "metadata": {
        "id": "_C9ECy5nbc82"
      },
      "execution_count": null,
      "outputs": []
    },
    {
      "cell_type": "code",
      "source": [
        "x+=1\n",
        "print(x)"
      ],
      "metadata": {
        "colab": {
          "base_uri": "https://localhost:8080/"
        },
        "id": "n_Wqwr29cfyV",
        "outputId": "b2601fdb-c38a-4e58-8669-92788386db42"
      },
      "execution_count": null,
      "outputs": [
        {
          "output_type": "stream",
          "name": "stdout",
          "text": [
            "4\n"
          ]
        }
      ]
    },
    {
      "cell_type": "code",
      "source": [
        "x*=2\n",
        "print(x)"
      ],
      "metadata": {
        "id": "ZdChMODYdFC1"
      },
      "execution_count": null,
      "outputs": []
    },
    {
      "cell_type": "code",
      "source": [
        "x**=3\n",
        "print(x)"
      ],
      "metadata": {
        "id": "GGgizWSndhF0"
      },
      "execution_count": null,
      "outputs": []
    },
    {
      "cell_type": "code",
      "source": [
        "y=2\n",
        "type(y) #prints the type"
      ],
      "metadata": {
        "id": "Nls2wn-1dra9"
      },
      "execution_count": null,
      "outputs": []
    },
    {
      "cell_type": "code",
      "source": [
        "print(y,y+1,y-1,y*2,y**3)"
      ],
      "metadata": {
        "id": "_ODE1uG6etxO"
      },
      "execution_count": null,
      "outputs": []
    },
    {
      "cell_type": "code",
      "source": [
        ""
      ],
      "metadata": {
        "id": "WZ7GXn8zfCQy"
      },
      "execution_count": null,
      "outputs": []
    }
  ]
}